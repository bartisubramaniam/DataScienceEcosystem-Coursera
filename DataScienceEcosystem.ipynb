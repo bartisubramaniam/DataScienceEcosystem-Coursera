{
 "cells": [
  {
   "cell_type": "markdown",
   "id": "f267e2c9",
   "metadata": {},
   "source": [
    "<h1> Data Science Tools and Ecosystem"
   ]
  },
  {
   "cell_type": "markdown",
   "id": "114f5a34",
   "metadata": {},
   "source": [
    "In this notebook, Data Science Tools and Ecosystem are summarized."
   ]
  },
  {
   "cell_type": "markdown",
   "id": "1724452f",
   "metadata": {},
   "source": [
    "<b>Objectives: </b>\n",
    "<ul>\n",
    "<li>Create markdown cells for ordered lists. </li>\n",
    "<li>Create markdown cell with table.</li>\n",
    "<li>Create a code cell with arithmetic expression. </li>\n",
    "</ul>"
   ]
  },
  {
   "cell_type": "markdown",
   "id": "4cd567ff",
   "metadata": {},
   "source": [
    "Some of the popular languages that Data Scientists use are:\n",
    "<ol>\n",
    "  <li>Python</li>\n",
    "  <li>R</li>\n",
    "  <li>SQL</li>\n",
    "  <li>Julia</li>\n",
    "  <li>VBA</li>\n",
    "</ol>"
   ]
  },
  {
   "cell_type": "markdown",
   "id": "a79e8f23",
   "metadata": {},
   "source": [
    "Some of the commonly used libraries used by Data Scientists include:\n",
    "<ol>\n",
    "  <li>Keras</li>\n",
    "  <li>PyTorch</li>\n",
    "  <li>Pandas</li>\n",
    "  <li>TensorFlow</li>\n",
    "  <li>NumPy</li>\n",
    "</ol>"
   ]
  },
  {
   "cell_type": "markdown",
   "id": "13288774",
   "metadata": {},
   "source": [
    "| Data Science Tools                      |\n",
    "| :-------------------------------------- |\n",
    "| Hadoop                                  |\n",
    "| Spark                                   |\n",
    "| Neo4                                    |\n"
   ]
  },
  {
   "cell_type": "markdown",
   "id": "a3e86eba",
   "metadata": {},
   "source": [
    "<h3> Below are a few examples of evaluating arithmetic expressions in Python"
   ]
  },
  {
   "cell_type": "code",
   "execution_count": 9,
   "id": "dd0a6dbf",
   "metadata": {},
   "outputs": [
    {
     "data": {
      "text/plain": [
       "17"
      ]
     },
     "execution_count": 9,
     "metadata": {},
     "output_type": "execute_result"
    }
   ],
   "source": [
    "(3*4)+5 # This a simple arithmetic expression to mutiply then add integers"
   ]
  },
  {
   "cell_type": "code",
   "execution_count": 10,
   "id": "6870746a",
   "metadata": {},
   "outputs": [
    {
     "name": "stdout",
     "output_type": "stream",
     "text": [
      "200 Minutes is equal to 3 hours and 20 minutes.\n"
     ]
    }
   ],
   "source": [
    "minutes = 200\n",
    "hours = minutes // 60 \n",
    "remaining_minutes = minutes % 60 \n",
    "\n",
    "print(f\"{minutes} Minutes is equal to {hours} hours and {remaining_minutes} minutes.\")\n"
   ]
  },
  {
   "cell_type": "markdown",
   "id": "db9a3045",
   "metadata": {},
   "source": [
    "<H2> Author </H2>\n",
    "   \n",
    "Mehmet Oguz Ozcullu"
   ]
  }
 ],
 "metadata": {
  "kernelspec": {
   "display_name": "Python 3 (ipykernel)",
   "language": "python",
   "name": "python3"
  },
  "language_info": {
   "codemirror_mode": {
    "name": "ipython",
    "version": 3
   },
   "file_extension": ".py",
   "mimetype": "text/x-python",
   "name": "python",
   "nbconvert_exporter": "python",
   "pygments_lexer": "ipython3",
   "version": "3.10.9"
  }
 },
 "nbformat": 4,
 "nbformat_minor": 5
}
